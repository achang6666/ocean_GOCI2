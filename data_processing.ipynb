{
 "cells": [
  {
   "cell_type": "markdown",
   "metadata": {},
   "source": [
    "## 取出GOCI2資料"
   ]
  },
  {
   "cell_type": "markdown",
   "metadata": {},
   "source": [
    "filter出- 左上：Lat 47.4935º Lon123.0000º\n",
    "- 右上：Lat 47.4935º Lon143.4700º\n",
    "- 左下：Lat 24.0000º Lon123.0000º\n",
    "- 右下：Lat 24.0000º Lon143.4700º"
   ]
  },
  {
   "cell_type": "code",
   "execution_count": 1,
   "metadata": {},
   "outputs": [
    {
     "name": "stdout",
     "output_type": "stream",
     "text": [
      "數據已匯出至 GK2B_GOCI2_L2_20230918_011530_LA_Chl_filtered.csv\n"
     ]
    }
   ],
   "source": [
    "import netCDF4 as nc\n",
    "import numpy as np\n",
    "import pandas as pd\n",
    "\n",
    "# 打開 NetCDF 檔案\n",
    "file_path = 'GK2B_GOCI2_L2_20230918_011530_LA_Chl.nc'\n",
    "dataset = nc.Dataset(file_path)\n",
    "\n",
    "# 讀取 geophysical_data 群組中的變數\n",
    "geophysical_data = dataset.groups['geophysical_data']\n",
    "Chl = geophysical_data.variables['Chl'][:]\n",
    "flag = geophysical_data.variables['flag'][:]\n",
    "\n",
    "# 讀取 navigation_data 群組中的變數\n",
    "navigation_data = dataset.groups['navigation_data']\n",
    "latitude = navigation_data.variables['latitude'][:]\n",
    "longitude = navigation_data.variables['longitude'][:]\n",
    "\n",
    "# 設定範圍條件\n",
    "lat_min, lat_max = 24.0000, 47.4935\n",
    "lon_min, lon_max = 123.0000, 143.4700\n",
    "\n",
    "# 找到符合條件的索引\n",
    "lat_mask = (latitude >= lat_min) & (latitude <= lat_max)\n",
    "lon_mask = (longitude >= lon_min) & (longitude <= lon_max)\n",
    "combined_mask = lat_mask & lon_mask\n",
    "\n",
    "# 取出符合條件的數據\n",
    "latitude_filtered = latitude[combined_mask]\n",
    "longitude_filtered = longitude[combined_mask]\n",
    "Chl_filtered = Chl[combined_mask]\n",
    "flag_filtered = flag[combined_mask]\n",
    "\n",
    "# 轉換成一維數組\n",
    "latitude_flat = latitude_filtered.flatten()\n",
    "longitude_flat = longitude_filtered.flatten()\n",
    "Chl_flat = Chl_filtered.flatten()\n",
    "flag_flat = flag_filtered.flatten()\n",
    "\n",
    "# 創建 DataFrame\n",
    "data = {\n",
    "    'Latitude': latitude_flat,\n",
    "    'Longitude': longitude_flat,\n",
    "    'Chlorophyll': Chl_flat,\n",
    "    'Flag': flag_flat\n",
    "}\n",
    "df = pd.DataFrame(data)\n",
    "\n",
    "# 匯出成 CSV 檔案\n",
    "csv_file_path = 'GK2B_GOCI2_L2_20230918_011530_LA_Chl_filtered.csv'\n",
    "df.to_csv(csv_file_path, index=False)\n",
    "\n",
    "print(f\"數據已匯出至 {csv_file_path}\")\n",
    "\n"
   ]
  },
  {
   "cell_type": "code",
   "execution_count": 1,
   "metadata": {},
   "outputs": [
    {
     "name": "stdout",
     "output_type": "stream",
     "text": [
      "數據已匯出至 NC_H09_20230918_0110_r14_FLDK.02701_02601_filtered.csv\n"
     ]
    }
   ],
   "source": [
    "import netCDF4 as nc\n",
    "import numpy as np\n",
    "import pandas as pd\n",
    "\n",
    "# 打開 NetCDF 檔案\n",
    "file_path = 'NC_H09_20230918_0110_r14_FLDK.02701_02601.nc'\n",
    "dataset = nc.Dataset(file_path)\n",
    "\n",
    "# 讀取變數\n",
    "latitude = dataset.variables['latitude'][:]\n",
    "longitude = dataset.variables['longitude'][:]\n",
    "albedo_01 = dataset.variables['albedo_01'][:]\n",
    "albedo_02 = dataset.variables['albedo_02'][:]\n",
    "albedo_03 = dataset.variables['albedo_03'][:]\n",
    "albedo_04 = dataset.variables['albedo_04'][:]\n",
    "\n",
    "# 將經緯度和反射率轉換成一維數組\n",
    "latitude_flat = np.tile(latitude, (longitude.shape[0], 1)).T.flatten()\n",
    "longitude_flat = np.tile(longitude, (latitude.shape[0], 1)).flatten()\n",
    "albedo_01_flat = albedo_01.flatten()\n",
    "albedo_02_flat = albedo_02.flatten()\n",
    "albedo_03_flat = albedo_03.flatten()\n",
    "albedo_04_flat = albedo_04.flatten()\n",
    "\n",
    "# 創建 DataFrame\n",
    "data = {\n",
    "    'Latitude': latitude_flat,\n",
    "    'Longitude': longitude_flat,\n",
    "    'Albedo_01': albedo_01_flat,\n",
    "    'Albedo_02': albedo_02_flat,\n",
    "    'Albedo_03': albedo_03_flat,\n",
    "    'Albedo_04': albedo_04_flat\n",
    "}\n",
    "df = pd.DataFrame(data)\n",
    "\n",
    "# 匯出成 CSV 檔案\n",
    "csv_file_path = 'NC_H09_20230918_0110_r14_FLDK.02701_02601_filtered.csv'\n",
    "df.to_csv(csv_file_path, index=False)\n",
    "\n",
    "print(f\"數據已匯出至 {csv_file_path}\")\n"
   ]
  },
  {
   "cell_type": "code",
   "execution_count": 2,
   "metadata": {},
   "outputs": [
    {
     "name": "stdout",
     "output_type": "stream",
     "text": [
      "數據已匯出至 NC_H09_20230918_0110_r14_FLDK.02701_02601_filtered.csv\n"
     ]
    }
   ],
   "source": [
    "import netCDF4 as nc\n",
    "import numpy as np\n",
    "import pandas as pd\n",
    "\n",
    "# 打開 NetCDF 檔案\n",
    "file_path = 'NC_H09_20230918_0110_r14_FLDK.02701_02601.nc'\n",
    "dataset = nc.Dataset(file_path)\n",
    "\n",
    "# 讀取變數\n",
    "latitude = dataset.variables['latitude'][:]\n",
    "longitude = dataset.variables['longitude'][:]\n",
    "albedo_01 = dataset.variables['albedo_01'][:]\n",
    "albedo_02 = dataset.variables['albedo_02'][:]\n",
    "albedo_03 = dataset.variables['albedo_03'][:]\n",
    "albedo_04 = dataset.variables['albedo_04'][:]\n",
    "\n",
    "# 設定範圍條件\n",
    "lat_min, lat_max = 24.0000, 47.4935\n",
    "lon_min, lon_max = 123.0000, 143.4700\n",
    "\n",
    "# 找到符合條件的索引\n",
    "lat_mask = (latitude >= lat_min) & (latitude <= lat_max)\n",
    "lon_mask = (longitude >= lon_min) & (longitude <= lon_max)\n",
    "\n",
    "# 確保latitude和longitude的遮罩應用到albedo數據\n",
    "lat_indices = np.where(lat_mask)[0]\n",
    "lon_indices = np.where(lon_mask)[0]\n",
    "\n",
    "# 使用範圍內的索引篩選數據\n",
    "latitude_filtered = latitude[lat_indices]\n",
    "longitude_filtered = longitude[lon_indices]\n",
    "albedo_01_filtered = albedo_01[np.ix_(lat_indices, lon_indices)]\n",
    "albedo_02_filtered = albedo_02[np.ix_(lat_indices, lon_indices)]\n",
    "albedo_03_filtered = albedo_03[np.ix_(lat_indices, lon_indices)]\n",
    "albedo_04_filtered = albedo_04[np.ix_(lat_indices, lon_indices)]\n",
    "\n",
    "# 轉換成一維數組\n",
    "latitude_flat = np.repeat(latitude_filtered, len(longitude_filtered))\n",
    "longitude_flat = np.tile(longitude_filtered, len(latitude_filtered))\n",
    "albedo_01_flat = albedo_01_filtered.flatten()\n",
    "albedo_02_flat = albedo_02_filtered.flatten()\n",
    "albedo_03_flat = albedo_03_filtered.flatten()\n",
    "albedo_04_flat = albedo_04_filtered.flatten()\n",
    "\n",
    "# 創建 DataFrame\n",
    "data = {\n",
    "    'Latitude': latitude_flat,\n",
    "    'Longitude': longitude_flat,\n",
    "    'Albedo_01': albedo_01_flat,\n",
    "    'Albedo_02': albedo_02_flat,\n",
    "    'Albedo_03': albedo_03_flat,\n",
    "    'Albedo_04': albedo_04_flat\n",
    "}\n",
    "df = pd.DataFrame(data)\n",
    "\n",
    "# 匯出成 CSV 檔案\n",
    "csv_file_path = 'NC_H09_20230918_0110_r14_FLDK.02701_02601_filtered.csv'\n",
    "df.to_csv(csv_file_path, index=False)\n",
    "\n",
    "print(f\"數據已匯出至 {csv_file_path}\")\n"
   ]
  },
  {
   "cell_type": "code",
   "execution_count": null,
   "metadata": {},
   "outputs": [],
   "source": []
  }
 ],
 "metadata": {
  "kernelspec": {
   "display_name": "ocean",
   "language": "python",
   "name": "python3"
  },
  "language_info": {
   "codemirror_mode": {
    "name": "ipython",
    "version": 3
   },
   "file_extension": ".py",
   "mimetype": "text/x-python",
   "name": "python",
   "nbconvert_exporter": "python",
   "pygments_lexer": "ipython3",
   "version": "3.9.19"
  }
 },
 "nbformat": 4,
 "nbformat_minor": 2
}
